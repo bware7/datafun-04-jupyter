{
 "cells": [
  {
   "cell_type": "markdown",
   "metadata": {},
   "source": [
    "# Exploratory Data Analysis with Python - Project 4\n",
    "\n",
    "**Author:** Bin Ware  \n",
    "**Date:** 9/20/24                                                                                                                                                                                                      \n",
    "**Purpose:** This notebook is part of Project 4, demonstrating exploratory data analysis (EDA) skills using Python. It includes using pandas, matplotlib, and seaborn libraries to analyze and visualize the Iris dataset, showcasing the steps of data acquisition, inspection, transformation, and visualization.\n"
   ]
  }
 ],
 "metadata": {
  "language_info": {
   "name": "python"
  }
 },
 "nbformat": 4,
 "nbformat_minor": 2
}
